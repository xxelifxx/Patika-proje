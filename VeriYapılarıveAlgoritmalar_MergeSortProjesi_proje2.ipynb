{
 "cells": [
  {
   "cell_type": "markdown",
   "id": "453a6326",
   "metadata": {},
   "source": [
    "# [16,21,11,8,12,22] -> Merge Sort"
   ]
  },
  {
   "cell_type": "markdown",
   "id": "17802022",
   "metadata": {},
   "source": [
    "# Yukarıdaki dizinin sort türüne göre aşamalarını yazınız."
   ]
  },
  {
   "cell_type": "code",
   "execution_count": null,
   "id": "b0dc29c7",
   "metadata": {},
   "outputs": [],
   "source": [
    "[16,21,11]  [8,12,22]\n",
    "[16] [21,11]  [8] [12,22]\n",
    "[16] [21] [11]  [8] [12] [22]\n",
    "[16] [11,21]  [8] [12,22]\n",
    "[11,16,21]  [8,12,22]\n",
    "[8,11,12,16,21,22]"
   ]
  },
  {
   "cell_type": "markdown",
   "id": "f7767a4c",
   "metadata": {},
   "source": [
    "# Big-O gösterimini yazınız."
   ]
  },
  {
   "cell_type": "code",
   "execution_count": null,
   "id": "0d6d7b39",
   "metadata": {},
   "outputs": [],
   "source": [
    "O(nlog(n))"
   ]
  }
 ],
 "metadata": {
  "kernelspec": {
   "display_name": "Python 3 (ipykernel)",
   "language": "python",
   "name": "python3"
  },
  "language_info": {
   "codemirror_mode": {
    "name": "ipython",
    "version": 3
   },
   "file_extension": ".py",
   "mimetype": "text/x-python",
   "name": "python",
   "nbconvert_exporter": "python",
   "pygments_lexer": "ipython3",
   "version": "3.9.12"
  }
 },
 "nbformat": 4,
 "nbformat_minor": 5
}
