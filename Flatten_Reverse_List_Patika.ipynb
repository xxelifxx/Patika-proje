{
 "cells": [
  {
   "cell_type": "markdown",
   "id": "3eef25b3",
   "metadata": {},
   "source": [
    "1- Bir listeyi düzleştiren (flatten) fonksiyon yazın. \n",
    "Elemanları birden çok katmanlı listelerden ([[3],2] gibi) oluşabileceği gibi, non-scalar verilerden de oluşabilir."
   ]
  },
  {
   "cell_type": "code",
   "execution_count": 1,
   "id": "6388eb81",
   "metadata": {},
   "outputs": [],
   "source": [
    "ornek = [[1,'a',['cat'],2],[[[3]],'dog'],4,5]"
   ]
  },
  {
   "cell_type": "code",
   "execution_count": 2,
   "id": "adab893f",
   "metadata": {},
   "outputs": [],
   "source": [
    "def flatten_list(liste):\n",
    "    if isinstance(liste, list):\n",
    "        temp = []\n",
    "        for item in liste:\n",
    "            temp.extend(flatten_list(item))\n",
    "        return temp\n",
    "    else:\n",
    "        return [liste]"
   ]
  },
  {
   "cell_type": "code",
   "execution_count": 3,
   "id": "644bf31e",
   "metadata": {},
   "outputs": [
    {
     "data": {
      "text/plain": [
       "[1, 'a', 'cat', 2, 3, 'dog', 4, 5]"
      ]
     },
     "execution_count": 3,
     "metadata": {},
     "output_type": "execute_result"
    }
   ],
   "source": [
    "flatten_list(ornek)"
   ]
  },
  {
   "cell_type": "code",
   "execution_count": 4,
   "id": "c0491718",
   "metadata": {},
   "outputs": [
    {
     "name": "stdout",
     "output_type": "stream",
     "text": [
      "[1, 'a', 'cat', 2, 3, 'dog', 4, 5]\n"
     ]
    }
   ],
   "source": [
    "from pandas.core.common import flatten\n",
    "\n",
    "print(list(flatten(ornek)))"
   ]
  },
  {
   "cell_type": "markdown",
   "id": "3fc1fe22",
   "metadata": {},
   "source": [
    "2- Verilen listenin içindeki elemanları tersine döndüren bir fonksiyon yazın. \n",
    "Eğer listenin içindeki elemanlar da liste içeriyorsa onların elemanlarını da tersine döndürün."
   ]
  },
  {
   "cell_type": "code",
   "execution_count": 5,
   "id": "5dccc2ce",
   "metadata": {},
   "outputs": [],
   "source": [
    "ornek2 = [[1, 2], [3, 4], [5, 6, 7]]"
   ]
  },
  {
   "cell_type": "code",
   "execution_count": 6,
   "id": "b543b777",
   "metadata": {},
   "outputs": [],
   "source": [
    "def reverse_list(liste):\n",
    "    reverse = []\n",
    "    for item in liste[::-1]:\n",
    "        if isinstance(item, list):\n",
    "            reverse.append(reverse_list(item))\n",
    "        else:\n",
    "            reverse.append(item)\n",
    "    return reverse"
   ]
  },
  {
   "cell_type": "code",
   "execution_count": 7,
   "id": "8b5ac7d0",
   "metadata": {},
   "outputs": [
    {
     "data": {
      "text/plain": [
       "[[7, 6, 5], [4, 3], [2, 1]]"
      ]
     },
     "execution_count": 7,
     "metadata": {},
     "output_type": "execute_result"
    }
   ],
   "source": [
    "reverse_list(ornek2)"
   ]
  }
 ],
 "metadata": {
  "kernelspec": {
   "display_name": "Python 3 (ipykernel)",
   "language": "python",
   "name": "python3"
  },
  "language_info": {
   "codemirror_mode": {
    "name": "ipython",
    "version": 3
   },
   "file_extension": ".py",
   "mimetype": "text/x-python",
   "name": "python",
   "nbconvert_exporter": "python",
   "pygments_lexer": "ipython3",
   "version": "3.9.12"
  }
 },
 "nbformat": 4,
 "nbformat_minor": 5
}
