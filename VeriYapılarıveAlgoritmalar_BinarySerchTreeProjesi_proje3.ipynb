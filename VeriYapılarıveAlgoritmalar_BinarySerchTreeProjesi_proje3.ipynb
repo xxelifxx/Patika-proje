{
 "cells": [
  {
   "cell_type": "markdown",
   "id": "e4d21b1a",
   "metadata": {},
   "source": [
    "# [7, 5, 1, 8, 3, 6, 0, 9, 4, 2] dizisinin Binary-Search-Tree aşamalarını yazınız."
   ]
  },
  {
   "cell_type": "markdown",
   "id": "bc6bf578",
   "metadata": {},
   "source": [
    "Root 7'dir. Solunda 5,1,3,6,0,4,2 sağında 8,9 bulunur."
   ]
  },
  {
   "cell_type": "code",
   "execution_count": null,
   "id": "36da9c32",
   "metadata": {},
   "outputs": [],
   "source": [
    "                            7\n",
    "                           / \\\n",
    "                           5  8\n",
    "                          / \\   \\\n",
    "                         1   6   9\n",
    "                        / \\\n",
    "                       0   3\n",
    "                          / \\\n",
    "                         2   4        \n",
    "            \n",
    "            "
   ]
  }
 ],
 "metadata": {
  "kernelspec": {
   "display_name": "Python 3 (ipykernel)",
   "language": "python",
   "name": "python3"
  },
  "language_info": {
   "codemirror_mode": {
    "name": "ipython",
    "version": 3
   },
   "file_extension": ".py",
   "mimetype": "text/x-python",
   "name": "python",
   "nbconvert_exporter": "python",
   "pygments_lexer": "ipython3",
   "version": "3.9.12"
  }
 },
 "nbformat": 4,
 "nbformat_minor": 5
}
