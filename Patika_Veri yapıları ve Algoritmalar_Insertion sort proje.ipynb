{
 "cells": [
  {
   "cell_type": "markdown",
   "id": "eb97b711",
   "metadata": {},
   "source": [
    "# [22,27,16,2,18,6] --> Insertion sort"
   ]
  },
  {
   "cell_type": "markdown",
   "id": "92f064f5",
   "metadata": {},
   "source": [
    "# Yukarı verilen dizinin sort türüne göre aşamalarını yazınız."
   ]
  },
  {
   "cell_type": "code",
   "execution_count": null,
   "id": "c366bc4b",
   "metadata": {},
   "outputs": [],
   "source": [
    "[22,27,16,2,18,6]\n",
    "[2,27,16,22,18,6]\n",
    "[2,6,16,22,18,27]\n",
    "[2,6,16,18,22,27] "
   ]
  },
  {
   "cell_type": "markdown",
   "id": "22d7deaf",
   "metadata": {},
   "source": [
    "# Big-O gösterimini yazınız."
   ]
  },
  {
   "cell_type": "markdown",
   "id": "a827b773",
   "metadata": {},
   "source": [
    "  Bu dizi doğrusal aramaya uygundur. Bu yüzden Time Complexity O(n) olur."
   ]
  },
  {
   "cell_type": "markdown",
   "id": "3a3717c4",
   "metadata": {},
   "source": [
    "# Time Complexity: Dizi sıralandıktan sonra 18 sayısı aşağıdaki case'lerden hangisinin kapsamına girer? Yazınız\n",
    "\n",
    "  1.Average case: Aradığımız sayının ortada olması\n",
    "  2.Worst case: Aradığımız sayının sonda olması\n",
    "  3.Best case: Aradığımız sayının dizinin en başında olması."
   ]
  },
  {
   "cell_type": "markdown",
   "id": "e609c80b",
   "metadata": {},
   "source": [
    "Average case (ortalama durum)."
   ]
  },
  {
   "cell_type": "markdown",
   "id": "ce7ef9ee",
   "metadata": {},
   "source": [
    "# [7,3,5,8,2,9,4,15,6] dizisinin Selection Sort'a göre ilk 4 adımını yazınız."
   ]
  },
  {
   "cell_type": "code",
   "execution_count": null,
   "id": "0f727eda",
   "metadata": {},
   "outputs": [],
   "source": [
    "[2,3,5,8,7,9,4,15,6]\n",
    "[2,3,4,8,7,9,5,15,6]\n",
    "[2,3,4,5,7,9,8,15,6]\n",
    "[2,3,4,5,6,9,8,15,7]"
   ]
  }
 ],
 "metadata": {
  "kernelspec": {
   "display_name": "Python 3 (ipykernel)",
   "language": "python",
   "name": "python3"
  },
  "language_info": {
   "codemirror_mode": {
    "name": "ipython",
    "version": 3
   },
   "file_extension": ".py",
   "mimetype": "text/x-python",
   "name": "python",
   "nbconvert_exporter": "python",
   "pygments_lexer": "ipython3",
   "version": "3.9.12"
  }
 },
 "nbformat": 4,
 "nbformat_minor": 5
}
